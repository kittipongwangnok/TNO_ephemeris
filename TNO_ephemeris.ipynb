{
 "cells": [
  {
   "cell_type": "code",
   "execution_count": 1,
   "id": "6716c867",
   "metadata": {},
   "outputs": [],
   "source": [
    "#Kittipong Wangnok\n",
    "#School of Physics, Institute of Science, Suranaree University of Technology\n",
    "#Import module\n",
    "import sys\n",
    "import os\n",
    "import numpy as np\n",
    "np.seterr(divide='ignore', invalid='ignore')\n",
    "from matplotlib import pyplot as plt\n",
    "\n",
    "from matplotlib import rc\n",
    "rc('text', usetex=True)\n",
    "rc('font', family='serif',size=14)"
   ]
  },
  {
   "cell_type": "code",
   "execution_count": 2,
   "id": "919bdb98",
   "metadata": {},
   "outputs": [
    {
     "name": "stdout",
     "output_type": "stream",
     "text": [
      "TNO_ephemeris.ipynb\r\n",
      "TNO_ephemeris_determination.dat\r\n",
      "TNO_ephemeris_determination_linear.pdf\r\n",
      "interporate_lnLTT_fit_TNO.out\r\n",
      "oc_dpleo_Beuermann_Schwope_Kittipong.dat\r\n",
      "oc_linear_dpleo_Beuermann_Schwope_Kittipong_ephemeris_determination.txt\r\n"
     ]
    }
   ],
   "source": [
    "ls"
   ]
  },
  {
   "cell_type": "code",
   "execution_count": 3,
   "id": "234c348e",
   "metadata": {},
   "outputs": [],
   "source": [
    "#Read data ---#1\n",
    "Input = \"TNO_ephemeris_determination.dat\"\n",
    "Data   = np.genfromtxt(Input)\n",
    "\n",
    "Epoch = Data[:,0]\n",
    "T_obs = Data[:,1]\n",
    "T_obs_err = Data[:,2]"
   ]
  },
  {
   "cell_type": "code",
   "execution_count": 4,
   "id": "d9cf6026",
   "metadata": {},
   "outputs": [
    {
     "data": {
      "image/png": "[encoded data removed]",
      "text/plain": [
       "<Figure size 720x360 with 1 Axes>"
      ]
     },
     "metadata": {
      "needs_background": "light"
     },
     "output_type": "display_data"
    }
   ],
   "source": [
    "fig, (ax0) = plt.subplots(1, 1, sharex=True, sharey=False, figsize=(10, 5), tight_layout=True)\n",
    "#plt.xlim(-0.04,0.04)\n",
    "#plt.xlabel('Orbital phase')\n",
    "\n",
    "ax0.tick_params(direction='in', which='both', bottom='on',top='on', right = 'on')\n",
    "#ax1.tick_params(direction='in', which='both', bottom='on',top='on', right = 'on')\n",
    "\n",
    "ax0.errorbar(Epoch, T_obs, yerr= T_obs_err, fmt='o', color='blue',\n",
    "             ecolor='lightgray', elinewidth=1, capsize=0)\n",
    "\n",
    "\n",
    "#ax0.legend(loc=\"best\")\n",
    "ax0.set_xlabel('E')\n",
    "ax0.set_ylabel('$T_{E}$')\n",
    "\n",
    "#ax0.set_ylim(-30, 40)\n",
    "\n",
    "fig.align_ylabels()\n",
    "#output_filename = os.path.splitext(__file__)[0] + '.png'\n",
    "#plt.savefig(output_filename, dpi=1000)\n",
    "#plt.savefig(\"spot_longitude_Beuermann_Kittipong.png\")\n",
    "plt.show()"
   ]
  },
  {
   "cell_type": "code",
   "execution_count": 5,
   "id": "4dfa269a",
   "metadata": {},
   "outputs": [
    {
     "name": "stdout",
     "output_type": "stream",
     "text": [
      "25\n"
     ]
    }
   ],
   "source": [
    "x = Epoch\n",
    "y = T_obs\n",
    "dy = T_obs_err\n",
    "\n",
    "len_x = len(x)\n",
    "print(len_x)"
   ]
  },
  {
   "cell_type": "code",
   "execution_count": 6,
   "id": "43fac88b",
   "metadata": {},
   "outputs": [
    {
     "name": "stdout",
     "output_type": "stream",
     "text": [
      "Slope (m) is  0.062362855989866905\n",
      "The error of the slope (dm) is  6.866834781974663e-10\n",
      "Intercept (c) is  58851.3006302073\n",
      "The error of the intercept (dc) is  1.3716706856015583e-05\n"
     ]
    }
   ],
   "source": [
    "# Calling the scipy's curve_fit function from optimize module\n",
    "from scipy.optimize import curve_fit\n",
    "import scipy.optimize as optimization \n",
    "\n",
    "# Defining a fitting fucntion\n",
    "def linear_fit(x,m,c):\n",
    "    return m*x + c\n",
    "\n",
    "params, covariance = optimization.curve_fit(f = linear_fit, xdata = x, ydata = y, sigma=dy, absolute_sigma=False)\n",
    "\n",
    "m = params[0]\n",
    "c = params[1]\n",
    "\n",
    "dm = covariance[0,0]\n",
    "dc = covariance[1,1]\n",
    "\n",
    "\n",
    "print('Slope (m) is ', m)\n",
    "print('The error of the slope (dm) is ', dm**0.5)\n",
    "print('Intercept (c) is ', c)\n",
    "print('The error of the intercept (dc) is ', dc**0.5)\n",
    "#print(covariance)"
   ]
  },
  {
   "cell_type": "code",
   "execution_count": 7,
   "id": "37ee5348",
   "metadata": {},
   "outputs": [
    {
     "name": "stdout",
     "output_type": "stream",
     "text": [
      "50\n",
      "50\n",
      "25\n",
      "2.3897746750207345\n"
     ]
    }
   ],
   "source": [
    "x_min, x_max = np.amin(x), np.amax(x)\n",
    "x_line = np.linspace(x_min, x_max)\n",
    "print(len(x_line))\n",
    "y_line = linear_fit(x_line, *params) #### For all interporation \n",
    "ys = linear_fit(x, *params)\n",
    "\n",
    "print(len(y_line))\n",
    "print(len(ys))\n",
    "\n",
    "Residual = y - ys\n",
    "\n",
    "#np.savetxt('TNO_ephemeris_determination_1.out', np.c_[x_line, y_line, y, dy], fmt=\"%.5f\")\n",
    "\n",
    "#Reduced_chisqrt\n",
    "m = 2\n",
    "dof = len_x - m\n",
    "Chi_sqr = ((y - ys)**2/(dy)**2)/dof\n",
    "Reduced_chisq_ln= sum(Chi_sqr)\n",
    "print(Reduced_chisq_ln)"
   ]
  },
  {
   "cell_type": "code",
   "execution_count": 8,
   "id": "9c39bcdb",
   "metadata": {},
   "outputs": [
    {
     "data": {
      "image/png": "[encoded data removed]",
      "text/plain": [
       "<Figure size 720x360 with 1 Axes>"
      ]
     },
     "metadata": {
      "needs_background": "light"
     },
     "output_type": "display_data"
    }
   ],
   "source": [
    "#Plotgraph\n",
    "fig=plt.figure(figsize=(10, 5))\n",
    "plt.errorbar(x, y, yerr= dy, fmt='o', markersize=8, color='blue', ecolor='lightgray')\n",
    "# create a line plot for the mapping function\n",
    "plt.plot(x_line, y_line, '-', color='red')\n",
    "#plt.plot(BJD_time, OC_s_ecc, lw=2, color='black')\n",
    "#plt.xlim(-6000,6000)\n",
    "#plt.ylim(-200,200)\n",
    "#plt.ylim(-40,60)\n",
    "plt.xlabel('Epoch')\n",
    "plt.ylabel('$T_{E}$')\n",
    "plt.grid(linestyle='dotted')\n",
    "#####plt.title('O-C diagram: DP Leo')\n",
    "#output_filename = os.path.splitext(__file__)[0] + '.png'\n",
    "#plt.savefig(output_filename, dpi=1000)\n",
    "plt.show()"
   ]
  },
  {
   "cell_type": "code",
   "execution_count": 9,
   "id": "32d83e66",
   "metadata": {},
   "outputs": [
    {
     "data": {
      "image/png": "[encoded data removed]",
      "text/plain": [
       "<Figure size 720x360 with 2 Axes>"
      ]
     },
     "metadata": {
      "needs_background": "light"
     },
     "output_type": "display_data"
    }
   ],
   "source": [
    "fig, (ax0, ax1) = plt.subplots(2, 1, gridspec_kw={'height_ratios': [4, 1]}, sharex=True, sharey=False, figsize=(10, 5), tight_layout=True)\n",
    "plt.xlabel('Epoch')\n",
    "\n",
    "ax0.tick_params(direction='in', which='both', bottom='on',top='on', right = 'on')\n",
    "ax1.tick_params(direction='in', which='both', bottom='on',top='on', right = 'on')\n",
    "\n",
    "ax0.errorbar(x, y, yerr= dy, fmt='o', markersize=8, color='blue', ecolor='lightgray')\n",
    "ax0.plot(x_line, y_line, '-', color='red',label='Linear\\_fit, $\\chi_{red}^{2}$ = '+str('%0.3f' %(Reduced_chisq_ln)))\n",
    "\n",
    "ax0.legend(loc=\"best\")\n",
    "ax0.set_ylabel('$T_{E}$')\n",
    "ax1.set_ylabel('Residuals (sec)')\n",
    "\n",
    "\n",
    "ax1.errorbar(x, Residual, yerr= dy, fmt='o', markersize=8, color='black', ecolor='lightgray')\n",
    "ax1.axhline(y=0, color='black', linestyle='-')\n",
    "plt.savefig(\"TNO_ephemeris_determination_linear.pdf\", dpi=1000)\n",
    "\n",
    "plt.show()"
   ]
  },
  {
   "cell_type": "code",
   "execution_count": 10,
   "id": "2936f270",
   "metadata": {},
   "outputs": [],
   "source": [
    "#The ephemeris from Schwope et al. (2002)\n",
    "T0_bjd = 48773.215071\n",
    "T0_bjd_err = 0.000018\n",
    "P0_day = 0.06236283691\n",
    "P0_day_err = 0.00000000070\n",
    "\n",
    "#T0_bjd = 58851.3006302073\n",
    "#T0_bjd_err = 1.3716706856015583e-05\n",
    "#P0_day = 0.062362855989866905\n",
    "#P0_day_err = 6.866834781974663e-10\n",
    "\n",
    "#T0_bjd = 48773.21461\n",
    "#T0_bjd_err = 0.00009\n",
    "#P0_day = 0.0623628426\n",
    "#P0_day_err = 0.0000000006"
   ]
  },
  {
   "cell_type": "code",
   "execution_count": 11,
   "id": "dc641973",
   "metadata": {},
   "outputs": [],
   "source": [
    "#Please change the input file\n",
    "DP_Leo_bjd = open(\"oc_dpleo_Beuermann_Schwope_Kittipong.dat\",'r').readlines()\n",
    "N_dpleo_bjd = len(DP_Leo_bjd)\n",
    "\n",
    "#Read datat\n",
    "Cycle = []\n",
    "T_obs = []\n",
    "T_obs_err = []\n",
    "#Please change the input file\n",
    "for line in open(\"oc_dpleo_Beuermann_Schwope_Kittipong.dat\"):\n",
    "#for line in open(\"T_mid_Beuermann_Schwope.in\"):\n",
    "    li=line.strip()\n",
    "    if not li.startswith(\"#\"):\n",
    "        Cycle.append(float(li.split(\" \")[0]))\n",
    "        T_obs.append(float(li.split(\" \")[1]))\n",
    "        T_obs_err.append(float(li.split(\" \")[2]))"
   ]
  },
  {
   "cell_type": "code",
   "execution_count": 12,
   "id": "5c8e7ff2",
   "metadata": {},
   "outputs": [],
   "source": [
    "BJD_time_a = [i for i in range(N_dpleo_bjd)]\n",
    "Delta_aT = [i for i in range(N_dpleo_bjd)]\n",
    "Delta_aT_err = [i for i in range(N_dpleo_bjd)]\n",
    "E_af = [i for i in range(N_dpleo_bjd)] #float number\n",
    "E_ak = [i for i in range(N_dpleo_bjd)] #integer number\n",
    "E_aj = [i for i in range(N_dpleo_bjd)] #integer number\n",
    "P_aE = [i for i in range(N_dpleo_bjd)]\n",
    "P_err_aE = [i for i in range(N_dpleo_bjd)]\n",
    "T_aC_linear = [i for i in range(N_dpleo_bjd)]\n",
    "T_aO_linear = [i for i in range(N_dpleo_bjd)]\n",
    "P_aver_a = [i for i in range(N_dpleo_bjd)]\n",
    "P_aver_std_a = [i for i in range(N_dpleo_bjd)]"
   ]
  },
  {
   "cell_type": "code",
   "execution_count": 13,
   "id": "8291d89c",
   "metadata": {},
   "outputs": [
    {
     "name": "stdout",
     "output_type": "stream",
     "text": [
      "No. \t BJD_time \t Cycle \t T_O_linear \t T_C_linear \t OC_s \t\t OC_s_err\n",
      "0\t44214.553250\t-234703\t44214.553250\t44214.554056\t-69.613855\t13.856981\n",
      "1\t44214.615620\t-234702\t44214.615620\t44214.616419\t-68.994964\t13.856962\n",
      "2\t44214.677980\t-234701\t44214.677980\t44214.678781\t-69.240073\t13.856942\n",
      "3\t44968.023090\t-222621\t44968.023090\t44968.021851\t107.026918\t98.737786\n",
      "4\t44968.957120\t-222606\t44968.957120\t44968.957294\t-15.017718\t98.737753\n",
      "5\t44969.019620\t-222605\t44969.019620\t44969.019657\t-3.166827\t98.737750\n",
      "6\t44978.997550\t-222445\t44978.997550\t44978.997711\t-13.872271\t98.737389\n",
      "7\t44993.900780\t-222206\t44993.900780\t44993.902429\t-142.437327\t58.176372\n",
      "8\t44993.963280\t-222205\t44993.963280\t44993.964791\t-130.586436\t58.176368\n",
      "9\t44994.026420\t-222204\t44994.026420\t44994.027154\t-63.439545\t58.176364\n",
      "10\t45020.905130\t-221773\t45020.905130\t45020.905537\t-35.161535\t18.674786\n",
      "11\t45021.902920\t-221757\t45021.902920\t45021.903342\t-36.491280\t18.674598\n",
      "12\t45024.833860\t-221710\t45024.833860\t45024.834396\t-46.283404\t58.174490\n",
      "13\t45731.966400\t-210371\t45731.966400\t45731.966603\t-17.574627\t28.836034\n",
      "14\t45763.833730\t-209860\t45763.833730\t45763.834013\t-24.457338\t4.656819\n",
      "15\t45854.882800\t-208400\t45854.882800\t45854.883755\t-82.508513\t98.709383\n",
      "16\t46054.942310\t-205192\t46054.942310\t46054.943736\t-123.186262\t98.704010\n",
      "17\t46086.935650\t-204679\t46086.935650\t46086.935871\t-19.103191\t2.803907\n",
      "18\t46086.997960\t-204678\t46086.997960\t46086.998234\t-23.668300\t2.803851\n",
      "19\t48560.557800\t-165014\t48560.557800\t48560.557797\t0.247372\t2.772481\n",
      "20\t48773.215090\t1\t48773.215090\t48773.215071\t1.641600\t3.628800\n",
      "21\t48774.212930\t-161588\t48774.212930\t48774.212876\t4.631856\t3.628800\n",
      "22\t49137.912940\t-155756\t49137.912940\t49137.912941\t-0.107972\t3.645996\n",
      "23\t49143.962140\t-155659\t49143.962140\t49143.962136\t0.308453\t3.646569\n",
      "24\t49144.024380\t-155658\t49144.024380\t49144.024499\t-10.304656\t3.646575\n",
      "25\t49144.086890\t-155657\t49144.086890\t49144.086862\t2.410234\t3.646581\n",
      "26\t49144.960050\t-155643\t49144.960050\t49144.959942\t9.346708\t3.646665\n",
      "27\t49145.022350\t-155642\t49145.022350\t49145.022305\t3.917599\t3.646671\n",
      "28\t49145.084540\t-155641\t49145.084540\t49145.084667\t-11.015510\t3.646677\n",
      "29\t49145.147110\t-155640\t49145.147110\t49145.147030\t6.883381\t3.646683\n",
      "30\t51870.776880\t-111934\t51870.776880\t51870.777180\t-25.947622\t4.710887\n",
      "31\t51870.901630\t-111932\t51870.901630\t51870.901906\t-23.845840\t4.710964\n",
      "32\t52284.678950\t-105297\t52284.678950\t52284.679329\t-32.736214\t3.474885\n",
      "33\t52284.741360\t-105296\t52284.741360\t52284.741692\t-28.661323\t3.409889\n",
      "34\t54914.832280\t-63122\t54914.832280\t54914.831976\t26.302699\t5.996163\n",
      "35\t54914.894660\t-63121\t54914.894660\t54914.894338\t27.785590\t5.996223\n",
      "36\t54916.827930\t-63090\t54916.827930\t54916.827586\t29.691210\t5.960632\n",
      "37\t54919.696600\t-63044\t54919.696600\t54919.696277\t27.920195\t5.963413\n",
      "38\t54920.756780\t-63027\t54920.756780\t54920.756445\t28.937342\t5.964441\n",
      "39\t54922.627670\t-62997\t54922.627670\t54922.627330\t29.360071\t5.966254\n",
      "40\t54922.690020\t-62996\t54922.690020\t54922.689693\t28.250961\t6.003733\n",
      "41\t54922.752370\t-62995\t54922.752370\t54922.752056\t27.141853\t6.003793\n",
      "42\t54922.814730\t-62994\t54922.814730\t54922.814419\t26.896744\t6.003853\n",
      "43\t54937.781830\t-62754\t54937.781830\t54937.781500\t28.550578\t5.980945\n",
      "44\t54937.844200\t-62753\t54937.844200\t54937.843862\t29.169469\t6.018332\n",
      "45\t54938.717290\t-62739\t54938.717290\t54938.716942\t30.057943\t5.981852\n",
      "46\t54938.779610\t-62738\t54938.779610\t54938.779305\t26.356833\t6.019233\n",
      "47\t54940.650510\t-62708\t54940.650510\t54940.650190\t27.643562\t6.070426\n",
      "48\t54940.712870\t-62707\t54940.712870\t54940.712553\t27.398454\t6.021096\n",
      "49\t54940.775240\t-62706\t54940.775240\t54940.774916\t28.017345\t6.070545\n",
      "50\t54940.837640\t-62705\t54940.837640\t54940.837279\t31.228235\t5.983907\n",
      "51\t54941.773050\t-62690\t54941.773050\t54941.772721\t28.415600\t6.022117\n",
      "52\t54941.835410\t-62689\t54941.835410\t54941.835084\t28.170491\t6.071558\n",
      "53\t54942.646120\t-62676\t54942.646120\t54942.645801\t27.576074\t6.022958\n",
      "54\t54942.770850\t-62674\t54942.770850\t54942.770527\t27.949856\t6.023078\n",
      "55\t54942.833220\t-62673\t54942.833220\t54942.832889\t28.568747\t6.023138\n",
      "56\t54942.895590\t-62672\t54942.895590\t54942.895252\t29.187638\t6.072571\n",
      "57\t54943.706300\t-62659\t54943.706300\t54943.705969\t28.593220\t6.023980\n",
      "58\t54943.768650\t-62658\t54943.768650\t54943.768332\t27.484112\t6.024040\n",
      "59\t54943.831010\t-62657\t54943.831010\t54943.830695\t27.239002\t5.986809\n",
      "60\t54970.647030\t-62227\t54970.647030\t54970.646715\t27.250122\t6.303729\n",
      "61\t54970.709410\t-62226\t54970.709410\t54970.709077\t28.733013\t6.303787\n",
      "62\t54993.658930\t-61858\t54993.658930\t54993.658601\t28.388892\t6.035112\n",
      "63\t54998.647980\t-61778\t54998.647980\t54998.647628\t30.380171\t6.039949\n",
      "64\t55005.632600\t-61666\t55005.632600\t55005.632266\t28.847959\t6.132529\n",
      "65\t55135.970980\t-59576\t55135.970980\t55135.970595\t33.242099\t6.173072\n",
      "66\t55156.924900\t-59240\t55156.924900\t55156.924508\t33.829467\t6.193386\n",
      "67\t55156.987240\t-59239\t55156.987240\t55156.986871\t31.856359\t6.193446\n",
      "68\t55157.922710\t-59224\t55157.922710\t55157.922314\t34.227723\t6.278145\n",
      "69\t55158.982870\t-59207\t55158.982870\t55158.982482\t33.516870\t6.195381\n",
      "70\t55160.916110\t-59176\t55160.916110\t55160.915730\t32.830490\t6.197255\n",
      "71\t55160.978470\t-59175\t55160.978470\t55160.978093\t32.585381\t6.197315\n",
      "72\t55161.913910\t-59160\t55161.913910\t55161.913535\t32.364746\t6.198222\n",
      "73\t55161.976290\t-59159\t55161.976290\t55161.975898\t33.847636\t6.282022\n",
      "74\t55162.911740\t-59144\t55162.911740\t55162.911341\t34.491001\t6.282917\n",
      "75\t55205.942100\t-58454\t55205.942100\t55205.941698\t34.709775\t6.276686\n",
      "76\t55206.004460\t-58453\t55206.004460\t55206.004061\t34.464665\t6.276746\n",
      "77\t55206.939920\t-58438\t55206.939920\t55206.939504\t35.972030\t6.277648\n",
      "78\t55207.002310\t-58437\t55207.002310\t55207.001866\t38.318921\t6.241932\n",
      "79\t55208.873170\t-58407\t55208.873170\t55208.872752\t36.149651\t6.243746\n",
      "80\t55209.870980\t-58391\t55209.870980\t55209.870557\t36.547906\t6.280473\n",
      "81\t55209.933310\t-58390\t55209.933310\t55209.932920\t33.710797\t6.244774\n",
      "82\t55209.995690\t-58389\t55209.995690\t55209.995283\t35.193688\t6.280593\n",
      "83\t55212.989110\t-58341\t55212.989110\t55212.988699\t35.524455\t6.247736\n",
      "84\t55244.918890\t-57829\t55244.918890\t55244.918471\t36.172634\t6.314258\n",
      "85\t55244.981260\t-57828\t55244.981260\t55244.980834\t36.791526\t6.278751\n",
      "86\t55246.976860\t-57796\t55246.976860\t55246.976445\t35.860037\t6.280685\n",
      "87\t55389.663080\t-55508\t55389.663080\t55389.662616\t40.106589\t6.419012\n",
      "88\t56670.346770\t-34972\t56670.346770\t56670.345835\t80.819673\t7.728563\n",
      "89\t56717.368350\t-34218\t56717.368350\t56717.367414\t80.903469\t7.773755\n",
      "90\t56748.300370\t-33722\t56748.300370\t56748.299381\t85.473393\t7.765128\n",
      "91\t57100.338720\t-28077\t57100.338720\t57100.337595\t97.192953\t8.141996\n",
      "92\t57101.149460\t-28064\t57101.149460\t57101.148312\t99.190535\t8.297161\n",
      "93\t57748.288850\t-17687\t57748.288850\t57748.287471\t119.182193\t8.705815\n",
      "94\t57748.351190\t-17686\t57748.351190\t57748.349833\t117.209084\t8.705876\n",
      "95\t57802.232720\t-16822\t57802.232720\t57802.231325\t120.570887\t8.817583\n",
      "96\t57802.419820\t-16819\t57802.419820\t57802.418413\t121.563561\t8.817763\n",
      "97\t57829.360570\t-16387\t57829.360570\t57829.359159\t121.948462\t8.986061\n",
      "98\t58140.426470\t-11399\t58140.426470\t58140.424989\t127.952650\t9.086042\n",
      "99\t58200.232450\t-10440\t58200.232450\t58200.230950\t129.629097\t9.201000\n",
      "100\t58542.417410\t-4953\t58542.417410\t58542.415836\t136.011882\t9.869426\n",
      "101\t58580.084550\t-4349\t58580.084550\t58580.082989\t134.846031\t9.698867\n",
      "102\t58851.300610\t0\t58851.300610\t58851.298967\t141.954885\t9.956927\n",
      "103\t58870.258890\t304\t58870.258890\t58870.257269\t140.017742\t9.974976\n",
      "104\t58870.383640\t306\t58870.383640\t58870.381995\t142.119524\t9.847051\n",
      "105\t58871.194310\t319\t58871.194310\t58871.192712\t138.069107\t10.175902\n",
      "106\t58871.256750\t320\t58871.256750\t58871.255075\t144.735998\t9.975926\n",
      "107\t58873.314700\t353\t58873.314700\t58873.313048\t142.695400\t9.849878\n",
      "108\t58873.439430\t355\t58873.439430\t58873.437774\t143.069182\t9.978004\n",
      "109\t58880.174630\t463\t58880.174630\t58880.172960\t144.245407\t9.984416\n",
      "110\t58909.298030\t930\t58909.298030\t58909.296405\t140.371493\t9.884582\n",
      "111\t58926.135990\t1200\t58926.135990\t58926.134371\t139.856057\t10.227191\n",
      "112\t58931.125040\t1280\t58931.125040\t58931.123398\t141.847335\t10.032929\n"
     ]
    }
   ],
   "source": [
    "OC_cal = []\n",
    "#print ('-----------------------------------------------------------------------------')\n",
    "#print ('Cycle \\t\\t T_O \\t   T_C \\t\\t BJD - 2450000 \\t OC_lin OC_err_Lin OC_occ')\n",
    "print('No. \\t BJD_time \\t Cycle \\t T_O_linear \\t T_C_linear \\t OC_s \\t\\t OC_s_err')\n",
    "#print ('-----------------------------------------------------------------------------')\n",
    "for i in range (0,N_dpleo_bjd):\n",
    "    BJD_time = np.array(T_obs)\n",
    "    BJD_time_a[i] = BJD_time\n",
    "    Delta_T = np.array(T_obs) - np.array(T0_bjd)\n",
    "    Delta_aT[i] = Delta_T #arrays\n",
    "    Delta_T_err = np.sqrt((np.array(T_obs_err)/np.array(T_obs))**2 + (np.array(T0_bjd_err)/np.array(T0_bjd))**2)\n",
    "    E_k = Cycle\n",
    "    E_ak[i] = E_k #arrays\n",
    "    #    print (Delta_T_err[i])\n",
    "    E_f = Delta_T / P0_day                      #Calculate cycle with float number\n",
    "    ##    print (E_f)                                 #print cycle with float number\n",
    "    E_af[i] = E_f #arrays\n",
    "    E_j = np.round(Delta_T / P0_day)           #Calculate cycle with integer number\n",
    "##print (Delta_T)\n",
    "    if  E_j[i] != 0:\n",
    "        P_E_day = Delta_T[i] / E_j[i]\n",
    "        P_aE[i] = P_E_day\n",
    "        P_E_err_day = np.abs((np.array(T_obs_err[i]) - np.array(T0_bjd_err)) / E_j[i])\n",
    "        P_err_aE[i] = P_E_err_day\n",
    "        T_O_linear = T0_bjd + P_aE[i]*E_j[i]               #Linear\n",
    "        T_aO_linear[i] = T_O_linear #arrays\n",
    "    else:\n",
    "        E_k[i] = 1\n",
    "        P_E_day = Delta_T[i] / E_k[i]\n",
    "#        print (P_E_day)\n",
    "        P_aE[i] = P_E_day\n",
    "        P_E_err_day = np.abs((np.array(T_obs_err[i]) - np.array(T0_bjd_err)) / E_k[i])\n",
    "        P_err_aE[i] = P_E_err_day\n",
    "        T_O_linear = T0_bjd + P_aE[i]*E_k[i]               #Linear\n",
    "        T_aO_linear[i] = T_O_linear #arrays\n",
    "#    print ('%0.6f' %(T_O))\n",
    "#print (E_j)                                #print cycle with integer number\n",
    "    if  E_j[i] != 0:\n",
    "        P_E_day = Delta_T[i] / E_j[i]\n",
    "        P_aE[i] = P_E_day\n",
    "        P_E_err_day = np.abs((np.array(T_obs_err[i]) - np.array(T0_bjd_err)) / E_j[i])\n",
    "#        print (P_E_err_day)\n",
    "        P_err_aE[i] = P_E_err_day\n",
    "        T_C_linear = T0_bjd + P0_day*E_j[i]              #Linear\n",
    "        T_aC_linear[i] = T_C_linear #arrays\n",
    "#    print (T_O, T_C)\n",
    "        OC = np.array(T_O_linear) - np.array(T_C_linear)\n",
    "        OC_s = (np.array(T_O_linear) - np.array(T_C_linear))*24*60*60\n",
    "        OC_err = np.abs(np.sqrt((np.array(P_err_aE[i])**2 + (np.array(P0_day_err)**2))) * np.array(E_j[i]))\n",
    "#        print (OC_err)\n",
    "        OC_s_err = OC_err*24*60*60\n",
    "    else:\n",
    "        P_E_day = Delta_T[i] / E_k[i]\n",
    "        P_aE[i] = P_E_day\n",
    "        P_E_err_day = np.abs((np.array(T_obs_err[i]) - np.array(T0_bjd_err)) / E_k[i])\n",
    "        P_err_aE[i] = P_E_err_day\n",
    "        T_C_linear = T0_bjd + P0_day*E_j[i]              #Linear\n",
    "        T_aC_linear[i] = T_C_linear #arrays\n",
    "#    print (T_O, T_C)\n",
    "        OC = np.array(T_O_linear) - np.array(T_C_linear)\n",
    "        OC_s = (np.array(T_O_linear) - np.array(T_C_linear))*24*60*60\n",
    "        OC_err = np.abs(np.sqrt((np.array(P_err_aE[i])**2)) *np.array(E_k[i]))\n",
    "#        print (OC_err)\n",
    "        OC_s_err = OC_err*24*60*60\n",
    "    print ('%0.0f\\t%0.6f\\t%0.0f\\t%0.6f\\t%0.6f\\t%0.6f\\t%0.6f' %(i, BJD_time[i], Cycle[i], T_O_linear, T_C_linear, OC_s, OC_s_err))\n",
    "    OC_cal.append('%0.6f\\t%0.0f\\t%0.6f\\t%0.6f\\t%0.6f\\t%0.6f' %(BJD_time[i], Cycle[i], T_O_linear, T_C_linear, OC_s, OC_s_err))\n",
    "    \n",
    "rerults = OC_cal\n",
    "f = open('oc_linear_dpleo_Beuermann_Schwope_Kittipong_ephemeris_determination.txt', 'w')\n",
    "#for upper_result in upper_result:\n",
    "for i in range(len(rerults)):\n",
    "    f.write(str(rerults[i])+ '\\n')\n",
    "f.close()"
   ]
  },
  {
   "cell_type": "code",
   "execution_count": 14,
   "id": "509799fd",
   "metadata": {},
   "outputs": [
    {
     "data": {
      "image/png": "[encoded data removed]",
      "text/plain": [
       "<Figure size 720x360 with 1 Axes>"
      ]
     },
     "metadata": {
      "needs_background": "light"
     },
     "output_type": "display_data"
    }
   ],
   "source": [
    "#Plot O-C vs BJD\n",
    "InputFileInput  = 'oc_linear_dpleo_Beuermann_Schwope_Kittipong_ephemeris_determination.txt'\n",
    "Data   = np.genfromtxt(InputFileInput)\n",
    "Cycle = Data[:,0]\n",
    "T_O = Data[:,1]\n",
    "T_C = Data[:,2]\n",
    "BJD_time = Data[:,3]\n",
    "OC_s = Data[:,4]\n",
    "OC_s_err = Data[:,5]\n",
    "\n",
    "##Plotgraph\n",
    "fig=plt.figure(figsize=(10, 5))\n",
    "plt.errorbar(BJD_time, OC_s, yerr=OC_s_err, fmt='o', markersize=8, color='limegreen', ecolor='lightgray')\n",
    "#plt.xlim(4850,5450)\n",
    "#plt.ylim(-50,60)\n",
    "plt.xlabel('BJD - 2400000')\n",
    "plt.ylabel('O-C (sec)')\n",
    "plt.grid(linestyle='dotted')\n",
    "######plt.title('O-C diagram: DP Leo')\n",
    "#output_filename = os.path.splitext(__file__)[0] + '.png'\n",
    "#plt.savefig(output_filename, dpi=1000)\n",
    "plt.show()"
   ]
  },
  {
   "cell_type": "markdown",
   "id": "dfc6ac0f",
   "metadata": {},
   "source": [
    "### Try to use sinusoidal fuction for the fitting"
   ]
  },
  {
   "cell_type": "code",
   "execution_count": 15,
   "id": "24fa5778",
   "metadata": {},
   "outputs": [
    {
     "name": "stdout",
     "output_type": "stream",
     "text": [
      "113\n"
     ]
    }
   ],
   "source": [
    "x = BJD_time\n",
    "y = OC_s\n",
    "dy = OC_s_err\n",
    "\n",
    "len_x = len(x)\n",
    "print(len_x)\n",
    "\n",
    "#print(dy)"
   ]
  },
  {
   "cell_type": "code",
   "execution_count": 16,
   "id": "abb0d653",
   "metadata": {},
   "outputs": [],
   "source": [
    "def sin_fit(x, dP, dt0, a, b, c):\n",
    "    Epoch = (x-T0_bjd)/P0_day\n",
    "    return dP*Epoch +dt0 + a*np.sin(b*x - np.radians(c))"
   ]
  },
  {
   "cell_type": "code",
   "execution_count": 17,
   "id": "1618662e",
   "metadata": {},
   "outputs": [
    {
     "name": "stdout",
     "output_type": "stream",
     "text": [
      "The fitting parameters\n",
      "dP = 0.0007450594642219958 +/- 1.0822724351583964e-05\n",
      "dt0 = -25.67004297119028 +/- 0.6610042769953592\n",
      "a = 44.85980280492897 +/- 0.8182352877679878\n",
      "b = 0.0005383521945275479 +/- 5.799120359437475e-06\n",
      "c = 1722.759363580721 +/- 16.897842762019383\n"
     ]
    }
   ],
   "source": [
    "#guess = [0,0,41.9455, 0.0000324289, -145.235]\n",
    "guess = [0,0,30, 0.00003, 0]\n",
    "#params, params_covariance = optimization.curve_fit(sin_fit, x, y, guess)\n",
    "params, params_covariance = optimization.curve_fit(sin_fit, x, y,sigma=dy, absolute_sigma=False,p0=guess)\n",
    "#params, params_covariance = optimization.curve_fit(sin_fit, x, y,sigma=dy, absolute_sigma=False)\n",
    "\n",
    "\n",
    "\n",
    "dP = params[0]\n",
    "dt0 = params[1]\n",
    "a = params[2]\n",
    "b = params[3]\n",
    "c = params[4]\n",
    "\n",
    "\n",
    "ddP = params_covariance[0,0]\n",
    "ddt0 = params_covariance[1,1]\n",
    "da = params_covariance[2,2]\n",
    "db = params_covariance[3,3]\n",
    "dc = params_covariance[4,4]\n",
    "\n",
    "output_fit = sin_fit(x, *params)\n",
    "\n",
    "\n",
    "print(\"The fitting parameters\")\n",
    "print(\"dP =\", dP, \"+/-\", ddP**0.5)\n",
    "print(\"dt0 =\", dt0, \"+/-\", ddt0**0.5)\n",
    "print(\"a =\", a, \"+/-\", da**0.5)\n",
    "print(\"b =\", b, \"+/-\", db**0.5)\n",
    "print(\"c =\", c, \"+/-\", dc**0.5)\n"
   ]
  },
  {
   "cell_type": "code",
   "execution_count": 18,
   "id": "50e700d6",
   "metadata": {},
   "outputs": [],
   "source": [
    "x_min, x_max = np.amin(x), np.amax(x)\n",
    "x_line = np.linspace(x_min, x_max)\n",
    "y_line = sin_fit(x_line, *params) #### For all interporation "
   ]
  },
  {
   "cell_type": "code",
   "execution_count": 19,
   "id": "6eb03506",
   "metadata": {},
   "outputs": [
    {
     "name": "stdout",
     "output_type": "stream",
     "text": [
      "[44214.554056   44514.89220584 44815.23035567 45115.56850551\n",
      " 45415.90665535 45716.24480518 46016.58295502 46316.92110486\n",
      " 46617.25925469 46917.59740453 47217.93555437 47518.2737042\n",
      " 47818.61185404 48118.95000388 48419.28815371 48719.62630355\n",
      " 49019.96445339 49320.30260322 49620.64075306 49920.9789029\n",
      " 50221.31705273 50521.65520257 50821.99335241 51122.33150224\n",
      " 51422.66965208 51723.00780192 52023.34595176 52323.68410159\n",
      " 52624.02225143 52924.36040127 53224.6985511  53525.03670094\n",
      " 53825.37485078 54125.71300061 54426.05115045 54726.38930029\n",
      " 55026.72745012 55327.06559996 55627.4037498  55927.74189963\n",
      " 56228.08004947 56528.41819931 56828.75634914 57129.09449898\n",
      " 57429.43264882 57729.77079865 58030.10894849 58330.44709833\n",
      " 58630.78524816 58931.123398  ] [-79.30936772 -68.51142273 -57.92304049 -47.72682804 -38.09516228\n",
      " -29.18569335 -21.13723213 -14.06612927  -8.06324003  -3.19155424\n",
      "   0.51544685   3.05466395   4.45346062   4.76894941   4.08650208\n",
      "   2.51752252   0.19654075  -2.72229651  -6.06924686  -9.66340014\n",
      " -13.31739765 -16.8423196  -20.05261325 -22.77093329 -24.832768\n",
      " -26.09073077 -26.41840478 -25.71364073 -23.90122154 -20.93482438\n",
      " -16.79822915 -11.5057415   -5.10181974   2.34008496  10.71944461\n",
      "  19.91127673  29.76940472  40.13027093  50.81720333  61.64502408\n",
      "  72.42488014  82.96916969  93.09643589 102.63610037 111.43291295\n",
      " 119.35100149 126.27741625 132.1250763  136.83504112 140.37804811]\n"
     ]
    }
   ],
   "source": [
    "print(x_line,y_line)"
   ]
  },
  {
   "cell_type": "code",
   "execution_count": 20,
   "id": "a614dd5f",
   "metadata": {},
   "outputs": [
    {
     "name": "stdout",
     "output_type": "stream",
     "text": [
      "Reduced_chisq: 0.5433467228127424\n"
     ]
    }
   ],
   "source": [
    "#Reduced_chisqrt\n",
    "n = 5\n",
    "dof = len_x - n\n",
    "Chi_sqr = ((y - output_fit)**2/(dy)**2)/dof\n",
    "Reduced_chisq = sum(Chi_sqr)\n",
    "print(\"Reduced_chisq:\",Reduced_chisq)"
   ]
  },
  {
   "cell_type": "code",
   "execution_count": 21,
   "id": "fd3c1297",
   "metadata": {},
   "outputs": [
    {
     "data": {
      "image/png": "[encoded data removed]",
      "text/plain": [
       "<Figure size 720x360 with 2 Axes>"
      ]
     },
     "metadata": {
      "needs_background": "light"
     },
     "output_type": "display_data"
    }
   ],
   "source": [
    "N_BMJD = 2400000\n",
    "fig, (ax0, ax1) = plt.subplots(2, 1, gridspec_kw={'height_ratios': [4, 1]}, sharex=True, sharey=False, figsize=(10, 5), tight_layout=True)\n",
    "plt.xlabel('BJD-'+str(N_BMJD))\n",
    "\n",
    "ax0.tick_params(direction='in', which='both', bottom='on',top='on', right = 'on')\n",
    "ax1.tick_params(direction='in', which='both', bottom='on',top='on', right = 'on')\n",
    "\n",
    "ax0.errorbar(x, y, yerr= dy, fmt='o', markersize=8, color='blue', ecolor='lightgray')\n",
    "ax0.plot(x_line, y_line, '-', color='green')\n",
    "\n",
    "#ax0.set_ylim(-40,60)\n",
    "\n",
    "ax0.set_ylabel('O-C (sec)')\n",
    "ax1.set_ylabel('Residuals (sec)')\n",
    "\n",
    "\n",
    "Res_lnLTT_fit = y-output_fit\n",
    "#np.savetxt(\"2022_May_week4_TNO_TNO_ephemeris_lnLTT_res.out\", np.c_[x, (x-T)/Period, Res_lnLTT_fit, dy])\n",
    "\n",
    "\n",
    "ax1.errorbar(x, Res_lnLTT_fit, yerr= dy, fmt='o', markersize=8, color='black', ecolor='lightgray')\n",
    "\n",
    "ax1.axhline(y=0, color='black', linestyle='-')\n",
    "\n",
    "#plt.savefig(\"2022_Feb_week4_new_ephemeris_sin_fit_Res.jpg\", dpi=1000)\n",
    "\n",
    "plt.show()"
   ]
  },
  {
   "cell_type": "code",
   "execution_count": 22,
   "id": "85de3521",
   "metadata": {},
   "outputs": [],
   "source": [
    "N = 700\n",
    "x_range = [i for i in range(N)]\n",
    "x_range_a = [i for i in range(N)]\n",
    "y_range = [i for i in range(len(x_range))]\n",
    "step=1*100\n",
    "#step\n",
    "\n",
    "interporate = []\n",
    "for i in range(300, N):\n",
    "    x_range[i] = i*step\n",
    "    Epoch = np.round((x_range[i] - T0_bjd)/P0_day)\n",
    "    y_range[i] = sin_fit(x_range[i], *params)\n",
    "#    print(x_range[i], y_range[i], Epoch)\n",
    "    interporate.append('%0.0f %0.2f %0.10f %0.10f %0.0f %0.5f' %(i, x_range[i], T0_bjd, P0_day, Epoch, y_range[i]))\n",
    "    \n",
    "data_out = interporate\n",
    "f = open(\"interporate_lnLTT_fit_TNO.out\", 'w')\n",
    "for i in range(len(data_out)):\n",
    "    f.write(str(data_out[i])+ '\\n')\n",
    "f.close()\n",
    "\n",
    "InputFile_out = \"interporate_lnLTT_fit_TNO.out\"\n",
    "Data_out   = np.genfromtxt(InputFile_out)\n",
    "\n",
    "#Read the wd data: BJD vs. Relative flux\n",
    "x_range_lnLTT_TNO = Data_out[:,1]\n",
    "Epoch_range_lnLTT_TNO = Data_out[:,4]\n",
    "y_range_lnLTT_TNO = Data_out[:,5]\n",
    "\n",
    "#print(y_range)"
   ]
  },
  {
   "cell_type": "code",
   "execution_count": 23,
   "id": "104eb82b",
   "metadata": {},
   "outputs": [
    {
     "data": {
      "image/png": "[encoded data removed]",
      "text/plain": [
       "<Figure size 720x504 with 2 Axes>"
      ]
     },
     "metadata": {
      "needs_background": "light"
     },
     "output_type": "display_data"
    }
   ],
   "source": [
    "fig, (ax0, ax1) = plt.subplots(2, 1, gridspec_kw={'height_ratios': [4, 1]}, sharex=True, sharey=False, figsize=(10, 7), tight_layout=True)\n",
    "plt.xlabel('Epoch')\n",
    "\n",
    "ax0.tick_params(direction='in', which='both', bottom='on',top='on', right = 'on')\n",
    "ax1.tick_params(direction='in', which='both', bottom='on',top='on', right = 'on')\n",
    "\n",
    "ax0.errorbar((x-T0_bjd)/P0_day, y, yerr= dy, fmt='o', markersize=8, color='blue', ecolor='lightgray')\n",
    "ax0.plot(Epoch_range_lnLTT_TNO, y_range_lnLTT_TNO, '-', color='red',label='lnLTT\\_fit, $\\chi^{2}/dof$ = '+str('%0.3f' %(Reduced_chisq)))\n",
    "ax0.legend(loc=\"best\")\n",
    "ax0.set_ylabel('O-C (sec)')\n",
    "ax1.set_ylabel('Residuals (sec)')\n",
    "\n",
    "\n",
    "ax1.errorbar((x-T0_bjd)/P0_day, Res_lnLTT_fit, yerr= dy, fmt='o', markersize=8, color='black', ecolor='lightgray')\n",
    "ax1.axhline(y=0, color='black', linestyle='-')\n",
    "#plt.savefig(\"2022_May_week4_TNO_TNO_ephemeris_lnLTT.pdf\", dpi=1200)\n",
    "\n",
    "plt.show()"
   ]
  },
  {
   "cell_type": "code",
   "execution_count": null,
   "id": "4ad80350",
   "metadata": {},
   "outputs": [],
   "source": []
  }
 ],
 "metadata": {
  "kernelspec": {
   "display_name": "Python 3 (ipykernel)",
   "language": "python",
   "name": "python3"
  },
  "language_info": {
   "codemirror_mode": {
    "name": "ipython",
    "version": 3
   },
   "file_extension": ".py",
   "mimetype": "text/x-python",
   "name": "python",
   "nbconvert_exporter": "python",
   "pygments_lexer": "ipython3",
   "version": "3.9.7"
  }
 },
 "nbformat": 4,
 "nbformat_minor": 5
}
